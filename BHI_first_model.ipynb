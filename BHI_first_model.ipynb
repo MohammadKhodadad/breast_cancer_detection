{
 "cells": [
  {
   "cell_type": "code",
   "execution_count": 47,
   "metadata": {},
   "outputs": [],
   "source": [
    "import os\n",
    "import cv2\n",
    "import glob\n",
    "import tqdm \n",
    "import numpy as np\n",
    "import pandas as pd\n",
    "\n",
    "import torch\n",
    "from torch import nn\n",
    "import torch.nn.functional as F\n",
    "from torch.utils.data import Dataset,DataLoader\n",
    "from sklearn.model_selection import train_test_split"
   ]
  },
  {
   "cell_type": "code",
   "execution_count": 45,
   "metadata": {},
   "outputs": [],
   "source": [
    "def load_image(image_address):\n",
    "    im=cv2.imread(image_address)\n",
    "    im=cv2.resize(im,(50,50))\n",
    "    return im\n",
    "def load_data(addresses):\n",
    "    x=[]\n",
    "    y=[]\n",
    "    for address in tqdm.tqdm(addresses):\n",
    "        x.append(load_image(address))\n",
    "    return np.array(x)"
   ]
  },
  {
   "cell_type": "code",
   "execution_count": 52,
   "metadata": {},
   "outputs": [
    {
     "name": "stderr",
     "output_type": "stream",
     "text": [
      "100%|██████████| 277524/277524 [00:43<00:00, 6339.75it/s]\n"
     ]
    }
   ],
   "source": [
    "breast_img_addresses = glob.glob('Dataset/BreastHistopathologyImages/*/*/*.png')\n",
    "y=np.array(list(map(lambda x:float(x[-5]),breast_img_addresses)))\n",
    "y=np.array(list(map(lambda x:x+0.00001 if x==0 else x-0.00001,y)))\n",
    "X=load_data(breast_img_addresses)"
   ]
  },
  {
   "cell_type": "code",
   "execution_count": 53,
   "metadata": {},
   "outputs": [],
   "source": [
    "X_train, X_test, y_train, y_test = train_test_split(X, y, test_size=0.20, random_state=42)"
   ]
  },
  {
   "cell_type": "code",
   "execution_count": 54,
   "metadata": {},
   "outputs": [],
   "source": [
    "# ind=np.random.randint(X_train.shape[0])\n",
    "# cv2.imshow(str(y_train[ind]),X_train[ind])\n",
    "# cv2.waitKey(0)\n",
    "# cv2.destroyAllWindows()"
   ]
  },
  {
   "cell_type": "code",
   "execution_count": 55,
   "metadata": {},
   "outputs": [],
   "source": [
    "class P_dataset(Dataset):\n",
    "    def __init__(self, X,y):\n",
    "        self.X=X\n",
    "        self.y=y\n",
    "        \n",
    "    def __getitem__(self, item):\n",
    "            x=self.X[item]\n",
    "            y=self.y[item]\n",
    "            return torch.tensor(np.array(x)+1/255,dtype=torch.float32),torch.tensor(np.array(y),dtype=torch.float32)\n",
    "    def __len__(self):\n",
    "        return self.y.shape[0]"
   ]
  },
  {
   "cell_type": "code",
   "execution_count": 56,
   "metadata": {},
   "outputs": [],
   "source": [
    "data_train=P_dataset(X_train,y_train)\n",
    "data_test=P_dataset(X_test,y_test)\n",
    "train_loader=DataLoader(data_train,batch_size=16,shuffle=True)\n",
    "test_loader=DataLoader(data_test,batch_size=16,shuffle=False)"
   ]
  },
  {
   "cell_type": "code",
   "execution_count": 60,
   "metadata": {},
   "outputs": [],
   "source": [
    "class ConvModel(nn.Module):\n",
    "    def __init__(self):\n",
    "        super(ConvModel, self).__init__()\n",
    "        self.cnn1=nn.Conv2d(3,3,3)\n",
    "        self.bn1=nn.BatchNorm2d(3)\n",
    "        self.mp1=nn.MaxPool2d(2,stride=2)\n",
    "        self.cnn2=nn.Conv2d(3,3,3)\n",
    "        self.bn2=nn.BatchNorm2d(3)\n",
    "        self.mp2=nn.MaxPool2d(2,stride=2)\n",
    "        self.cnn3=nn.Conv2d(3,3,4)\n",
    "        self.bn3=nn.BatchNorm2d(3)\n",
    "        self.mp3=nn.MaxPool2d(2,stride=2)\n",
    "        # self.cnn4=nn.Conv2d(12,24,3)\n",
    "        # self.mp4=nn.MaxPool2d(2,stride=2)\n",
    "        # self.cnn5=nn.Conv2d(24,48,3)\n",
    "        # self.mp5=nn.MaxPool2d(2,stride=2)\n",
    "        self.final=nn.Linear(3*4*4,1)\n",
    "    def forward(self, x):\n",
    "        x=torch.permute(x,(0,3,1,2))\n",
    "        b=x.size(0)\n",
    "        x=F.relu(self.bn1(self.cnn1(x)))\n",
    "        x=self.mp1(x)\n",
    "        x=F.relu(self.bn2(self.cnn2(x)))\n",
    "        x=self.mp2(x)\n",
    "        x=F.relu(self.bn3(self.cnn3(x)))\n",
    "        x=self.mp3(x)\n",
    "        # x=self.cnn4(x)\n",
    "        # x=self.mp4(x)\n",
    "        # x=self.cnn5(x)\n",
    "        # x=self.mp5(x)\n",
    "        x=x.reshape(b,-1)\n",
    "        x=F.sigmoid(self.final(x))\n",
    "        return x\n"
   ]
  },
  {
   "cell_type": "code",
   "execution_count": 61,
   "metadata": {},
   "outputs": [],
   "source": [
    "BCELOSS=nn.BCELoss()\n",
    "def loss_fn(y,y_hat):\n",
    "    y_hat=y_hat.view(-1,)\n",
    "    loss=BCELOSS(y,y_hat)\n",
    "    acc=torch.sum((y>0.5)==(y_hat>0.5))/y.shape[0]\n",
    "    return loss,acc"
   ]
  },
  {
   "cell_type": "code",
   "execution_count": 62,
   "metadata": {},
   "outputs": [
    {
     "name": "stdout",
     "output_type": "stream",
     "text": [
      "EPOCH 0: train_loss: 2.030174643465564, test_loss: 2.0141605643490585, train_acc: 0.8254531025886536, test_acc: 0.8253422379493713,\n",
      "EPOCH 1: train_loss: 1.9371826329068564, test_loss: 2.3180466667312776, train_acc: 0.832021176815033, test_acc: 0.7989193201065063,\n",
      "EPOCH 2: train_loss: 1.9148999127091042, test_loss: 2.1327455724575533, train_acc: 0.8338527679443359, test_acc: 0.8149495720863342,\n"
     ]
    },
    {
     "ename": "KeyboardInterrupt",
     "evalue": "",
     "output_type": "error",
     "traceback": [
      "\u001b[1;31m---------------------------------------------------------------------------\u001b[0m",
      "\u001b[1;31mKeyboardInterrupt\u001b[0m                         Traceback (most recent call last)",
      "\u001b[1;32mf:\\Jobs\\Mahyarlab\\Health\\Code\\BHI_first_model.ipynb Cell 10\u001b[0m line \u001b[0;36m<cell line: 6>\u001b[1;34m()\u001b[0m\n\u001b[0;32m     <a href='vscode-notebook-cell:/f%3A/Jobs/Mahyarlab/Health/Code/BHI_first_model.ipynb#X15sZmlsZQ%3D%3D?line=23'>24</a>\u001b[0m     train_loss\u001b[39m+\u001b[39m\u001b[39m=\u001b[39mloss\u001b[39m.\u001b[39mdetach()\u001b[39m.\u001b[39mnumpy()\n\u001b[0;32m     <a href='vscode-notebook-cell:/f%3A/Jobs/Mahyarlab/Health/Code/BHI_first_model.ipynb#X15sZmlsZQ%3D%3D?line=24'>25</a>\u001b[0m     train_acc\u001b[39m+\u001b[39m\u001b[39m=\u001b[39macc\n\u001b[1;32m---> <a href='vscode-notebook-cell:/f%3A/Jobs/Mahyarlab/Health/Code/BHI_first_model.ipynb#X15sZmlsZQ%3D%3D?line=25'>26</a>\u001b[0m     loss\u001b[39m.\u001b[39;49mbackward()\n\u001b[0;32m     <a href='vscode-notebook-cell:/f%3A/Jobs/Mahyarlab/Health/Code/BHI_first_model.ipynb#X15sZmlsZQ%3D%3D?line=27'>28</a>\u001b[0m     opt\u001b[39m.\u001b[39mstep()\n\u001b[0;32m     <a href='vscode-notebook-cell:/f%3A/Jobs/Mahyarlab/Health/Code/BHI_first_model.ipynb#X15sZmlsZQ%3D%3D?line=28'>29</a>\u001b[0m model\u001b[39m.\u001b[39meval()    \n",
      "File \u001b[1;32md:\\Programs\\Python\\lib\\site-packages\\torch\\_tensor.py:487\u001b[0m, in \u001b[0;36mTensor.backward\u001b[1;34m(self, gradient, retain_graph, create_graph, inputs)\u001b[0m\n\u001b[0;32m    477\u001b[0m \u001b[39mif\u001b[39;00m has_torch_function_unary(\u001b[39mself\u001b[39m):\n\u001b[0;32m    478\u001b[0m     \u001b[39mreturn\u001b[39;00m handle_torch_function(\n\u001b[0;32m    479\u001b[0m         Tensor\u001b[39m.\u001b[39mbackward,\n\u001b[0;32m    480\u001b[0m         (\u001b[39mself\u001b[39m,),\n\u001b[1;32m   (...)\u001b[0m\n\u001b[0;32m    485\u001b[0m         inputs\u001b[39m=\u001b[39minputs,\n\u001b[0;32m    486\u001b[0m     )\n\u001b[1;32m--> 487\u001b[0m torch\u001b[39m.\u001b[39;49mautograd\u001b[39m.\u001b[39;49mbackward(\n\u001b[0;32m    488\u001b[0m     \u001b[39mself\u001b[39;49m, gradient, retain_graph, create_graph, inputs\u001b[39m=\u001b[39;49minputs\n\u001b[0;32m    489\u001b[0m )\n",
      "File \u001b[1;32md:\\Programs\\Python\\lib\\site-packages\\torch\\autograd\\__init__.py:200\u001b[0m, in \u001b[0;36mbackward\u001b[1;34m(tensors, grad_tensors, retain_graph, create_graph, grad_variables, inputs)\u001b[0m\n\u001b[0;32m    195\u001b[0m     retain_graph \u001b[39m=\u001b[39m create_graph\n\u001b[0;32m    197\u001b[0m \u001b[39m# The reason we repeat same the comment below is that\u001b[39;00m\n\u001b[0;32m    198\u001b[0m \u001b[39m# some Python versions print out the first line of a multi-line function\u001b[39;00m\n\u001b[0;32m    199\u001b[0m \u001b[39m# calls in the traceback and some print out the last line\u001b[39;00m\n\u001b[1;32m--> 200\u001b[0m Variable\u001b[39m.\u001b[39;49m_execution_engine\u001b[39m.\u001b[39;49mrun_backward(  \u001b[39m# Calls into the C++ engine to run the backward pass\u001b[39;49;00m\n\u001b[0;32m    201\u001b[0m     tensors, grad_tensors_, retain_graph, create_graph, inputs,\n\u001b[0;32m    202\u001b[0m     allow_unreachable\u001b[39m=\u001b[39;49m\u001b[39mTrue\u001b[39;49;00m, accumulate_grad\u001b[39m=\u001b[39;49m\u001b[39mTrue\u001b[39;49;00m)\n",
      "\u001b[1;31mKeyboardInterrupt\u001b[0m: "
     ]
    }
   ],
   "source": [
    "device='cpu'\n",
    "model=ConvModel()\n",
    "\n",
    "opt = torch.optim.Adam(model.parameters(),lr=0.01)\n",
    "\n",
    "for epoch in range(100):\n",
    "    train_loss=0\n",
    "    train_acc=0\n",
    "    test_loss=0\n",
    "    test_acc=0\n",
    "    train_len=0\n",
    "    test_len=0\n",
    "    model.train()\n",
    "    for x,y in train_loader:\n",
    "        train_len+=x.shape[0]\n",
    "        x = x.to(device) # GPU\n",
    "        # x=torch.permute(x,(0,3,1,2))\n",
    "        y = y.to(device)\n",
    "        # print(y.shape)\n",
    "        opt.zero_grad()\n",
    "        y_hat = model(x)\n",
    "        # print(y_hat.shape)\n",
    "        loss,acc=loss_fn(y,y_hat)\n",
    "        train_loss+=loss.detach().numpy()\n",
    "        train_acc+=acc\n",
    "        loss.backward()\n",
    "\n",
    "        opt.step()\n",
    "    model.eval()    \n",
    "    for x,y in test_loader:\n",
    "        test_len+=x.shape[0]\n",
    "        x = x.to(device) # GPU\n",
    "        # x=torch.permute(x,(0,3,1,2))\n",
    "        y = y.to(device)\n",
    "        y_hat = model(x)\n",
    "        loss,acc=loss_fn(y,y_hat)\n",
    "        test_loss+=loss.detach().numpy()\n",
    "        test_acc+=acc\n",
    "    train_loss=train_loss/len(train_loader)\n",
    "    train_acc=train_acc/len(train_loader)\n",
    "    test_loss=test_loss/len(test_loader)\n",
    "    test_acc=test_acc/len(test_loader)\n",
    "    print(f\"EPOCH {epoch}: train_loss: {train_loss}, test_loss: {test_loss}, train_acc: {train_acc}, test_acc: {test_acc},\")\n",
    "        "
   ]
  },
  {
   "cell_type": "code",
   "execution_count": null,
   "metadata": {},
   "outputs": [],
   "source": []
  }
 ],
 "metadata": {
  "kernelspec": {
   "display_name": "Python 3",
   "language": "python",
   "name": "python3"
  },
  "language_info": {
   "codemirror_mode": {
    "name": "ipython",
    "version": 3
   },
   "file_extension": ".py",
   "mimetype": "text/x-python",
   "name": "python",
   "nbconvert_exporter": "python",
   "pygments_lexer": "ipython3",
   "version": "3.10.2"
  },
  "orig_nbformat": 4
 },
 "nbformat": 4,
 "nbformat_minor": 2
}
